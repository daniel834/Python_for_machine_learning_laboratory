{
  "nbformat": 4,
  "nbformat_minor": 0,
  "metadata": {
    "colab": {
      "provenance": [],
      "authorship_tag": "ABX9TyOO53d8ENK2wZE7aowcI/yG",
      "include_colab_link": true
    },
    "kernelspec": {
      "name": "python3",
      "display_name": "Python 3"
    },
    "language_info": {
      "name": "python"
    }
  },
  "cells": [
    {
      "cell_type": "markdown",
      "metadata": {
        "id": "view-in-github",
        "colab_type": "text"
      },
      "source": [
        "<a href=\"https://colab.research.google.com/github/daniel834/Python_for_machine_learning_laboratory/blob/for_variant/lab2task2.ipynb\" target=\"_parent\"><img src=\"https://colab.research.google.com/assets/colab-badge.svg\" alt=\"Open In Colab\"/></a>"
      ]
    },
    {
      "cell_type": "code",
      "execution_count": null,
      "metadata": {
        "id": "mgvmIMEhKYdO"
      },
      "outputs": [],
      "source": [
        "lista = [\"żubr\",\"bóbr\",\"łoś\",\"wilk\",\"kuna\",\"koń\",\"wydra\",\"ryjówka\",\"zając\"]"
      ]
    },
    {
      "cell_type": "code",
      "source": [
        "for i in range(len(lista)):\n",
        "  print(lista[i])\n"
      ],
      "metadata": {
        "id": "TmE6LoSQPy7y"
      },
      "execution_count": null,
      "outputs": []
    }
  ]
}