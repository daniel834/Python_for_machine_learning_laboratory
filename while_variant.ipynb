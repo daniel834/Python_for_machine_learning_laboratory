{
  "nbformat": 4,
  "nbformat_minor": 0,
  "metadata": {
    "colab": {
      "provenance": [],
      "authorship_tag": "ABX9TyOIUhF/h4AYMHC2b3GrYvj/",
      "include_colab_link": true
    },
    "kernelspec": {
      "name": "python3",
      "display_name": "Python 3"
    },
    "language_info": {
      "name": "python"
    }
  },
  "cells": [
    {
      "cell_type": "markdown",
      "metadata": {
        "id": "view-in-github",
        "colab_type": "text"
      },
      "source": [
        "<a href=\"https://colab.research.google.com/github/daniel834/Python_for_machine_learning_laboratory/blob/while_variant/while_variant.ipynb\" target=\"_parent\"><img src=\"https://colab.research.google.com/assets/colab-badge.svg\" alt=\"Open In Colab\"/></a>"
      ]
    },
    {
      "cell_type": "code",
      "execution_count": 1,
      "metadata": {
        "id": "YIFChLXJN5k0"
      },
      "outputs": [],
      "source": [
        "lista = [\"żubr\",\"bóbr\",\"łoś\",\"wilk\",\"kuna\",\"koń\",\"wydra\",\"ryjówka\",\"zając\"]"
      ]
    },
    {
      "cell_type": "code",
      "source": [
        "i = 0\n",
        "while(i<len(lista)):\n",
        "  print(lista[i])\n",
        "  i = i+1\n"
      ],
      "metadata": {
        "colab": {
          "base_uri": "https://localhost:8080/"
        },
        "id": "eYB2egqlOE18",
        "outputId": "63ce5d9c-10b3-497b-d6ed-5c7f07008eed"
      },
      "execution_count": 2,
      "outputs": [
        {
          "output_type": "stream",
          "name": "stdout",
          "text": [
            "żubr\n",
            "bóbr\n",
            "łoś\n",
            "wilk\n",
            "kuna\n",
            "koń\n",
            "wydra\n",
            "ryjówka\n",
            "zając\n"
          ]
        }
      ]
    }
  ]
}